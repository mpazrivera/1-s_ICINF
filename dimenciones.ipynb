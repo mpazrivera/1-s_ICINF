{
  "nbformat": 4,
  "nbformat_minor": 0,
  "metadata": {
    "colab": {
      "provenance": [],
      "authorship_tag": "ABX9TyPSeEIoGRcRK70jA7hJ8ef6",
      "include_colab_link": true
    },
    "kernelspec": {
      "name": "python3",
      "display_name": "Python 3"
    },
    "language_info": {
      "name": "python"
    }
  },
  "cells": [
    {
      "cell_type": "markdown",
      "metadata": {
        "id": "view-in-github",
        "colab_type": "text"
      },
      "source": [
        "<a href=\"https://colab.research.google.com/github/mpazrivera/1-s_ICINF/blob/main/dimenciones.ipynb\" target=\"_parent\"><img src=\"https://colab.research.google.com/assets/colab-badge.svg\" alt=\"Open In Colab\"/></a>"
      ]
    },
    {
      "cell_type": "code",
      "execution_count": 10,
      "metadata": {
        "id": "4a3GV4OCFfVk"
      },
      "outputs": [],
      "source": [
        "import numpy as np"
      ]
    },
    {
      "cell_type": "markdown",
      "source": [
        "Creando un vector de 12 numeros enteros (desde 1 al 10) random"
      ],
      "metadata": {
        "id": "P60PwOX1GQqN"
      }
    },
    {
      "cell_type": "code",
      "source": [
        "vector = np.random.randint(1,11,12)\n",
        "vector"
      ],
      "metadata": {
        "colab": {
          "base_uri": "https://localhost:8080/"
        },
        "id": "FtQBt5AkGbBx",
        "outputId": "0dbf0e66-f10a-4615-b223-7d088f804e2a"
      },
      "execution_count": 11,
      "outputs": [
        {
          "output_type": "execute_result",
          "data": {
            "text/plain": [
              "array([8, 4, 4, 2, 9, 1, 3, 5, 8, 7, 6, 6])"
            ]
          },
          "metadata": {},
          "execution_count": 11
        }
      ]
    },
    {
      "cell_type": "markdown",
      "source": [
        "obstencion de la dimencion de un arreglo"
      ],
      "metadata": {
        "id": "BuC_1EtVGoLl"
      }
    },
    {
      "cell_type": "code",
      "source": [
        "np.shape(vector)"
      ],
      "metadata": {
        "colab": {
          "base_uri": "https://localhost:8080/"
        },
        "id": "BNywvAg-G0OY",
        "outputId": "17890e63-c408-468a-8378-4569a918b844"
      },
      "execution_count": 12,
      "outputs": [
        {
          "output_type": "execute_result",
          "data": {
            "text/plain": [
              "(12,)"
            ]
          },
          "metadata": {},
          "execution_count": 12
        }
      ]
    },
    {
      "cell_type": "markdown",
      "source": [
        "transformar el vector de 12 elementos en una Matriz 4x3"
      ],
      "metadata": {
        "id": "a7w9TUs1G-OA"
      }
    },
    {
      "cell_type": "code",
      "source": [
        "matriz = vector.reshape(4,3)\n",
        "matriz"
      ],
      "metadata": {
        "colab": {
          "base_uri": "https://localhost:8080/"
        },
        "id": "CKsXBtCqHHFH",
        "outputId": "58293bb4-a4c8-4402-99f7-e7b8171c5287"
      },
      "execution_count": 15,
      "outputs": [
        {
          "output_type": "execute_result",
          "data": {
            "text/plain": [
              "array([[8, 4, 4],\n",
              "       [2, 9, 1],\n",
              "       [3, 5, 8],\n",
              "       [7, 6, 6]])"
            ]
          },
          "metadata": {},
          "execution_count": 15
        }
      ]
    },
    {
      "cell_type": "markdown",
      "source": [
        "Otra variante de matriz (6x2) generada de la matriz"
      ],
      "metadata": {
        "id": "9NxsEw_lHRRa"
      }
    },
    {
      "cell_type": "code",
      "source": [
        "matriz_2 = vector.reshape(6,2)\n",
        "matriz_2"
      ],
      "metadata": {
        "colab": {
          "base_uri": "https://localhost:8080/"
        },
        "id": "sTGOO-r2Hq1Q",
        "outputId": "8ae44aac-70d1-47db-b1d2-9fcd8654e3d0"
      },
      "execution_count": 17,
      "outputs": [
        {
          "output_type": "execute_result",
          "data": {
            "text/plain": [
              "array([[8, 4],\n",
              "       [4, 2],\n",
              "       [9, 1],\n",
              "       [3, 5],\n",
              "       [8, 7],\n",
              "       [6, 6]])"
            ]
          },
          "metadata": {},
          "execution_count": 17
        }
      ]
    },
    {
      "cell_type": "markdown",
      "source": [
        "Volviendo a consultar la dimención pero de la matriz"
      ],
      "metadata": {
        "id": "MIJjvHhEHu1w"
      }
    },
    {
      "cell_type": "code",
      "source": [
        "np.shape(matriz)"
      ],
      "metadata": {
        "id": "m7cCGqgbH2FC"
      },
      "execution_count": null,
      "outputs": []
    },
    {
      "cell_type": "markdown",
      "source": [
        "**Conociendo la BIBLIOTECA Matplotlib**"
      ],
      "metadata": {
        "id": "V9o4JhPwLY1H"
      }
    },
    {
      "cell_type": "code",
      "source": [
        "import matplotlib.pyplot as plt"
      ],
      "metadata": {
        "id": "odOSLPsFLob_"
      },
      "execution_count": 6,
      "outputs": []
    },
    {
      "cell_type": "markdown",
      "source": [
        "creando un grafico simple"
      ],
      "metadata": {
        "id": "RbIVL7AZK3ij"
      }
    },
    {
      "cell_type": "code",
      "source": [
        "plt.plot(vector)\n",
        "plt.title(\"Grafico de vectores\")\n",
        "plt.xlabel(\"Indice (posicion)\")\n",
        "plt.ylabel(\"Valor\")"
      ],
      "metadata": {
        "colab": {
          "base_uri": "https://localhost:8080/",
          "height": 489
        },
        "id": "wbOwnO-KK8h_",
        "outputId": "9c886d07-0c44-4079-ccdb-7892b16ead93"
      },
      "execution_count": 13,
      "outputs": [
        {
          "output_type": "execute_result",
          "data": {
            "text/plain": [
              "Text(0, 0.5, 'Valor')"
            ]
          },
          "metadata": {},
          "execution_count": 13
        },
        {
          "output_type": "display_data",
          "data": {
            "text/plain": [
              "<Figure size 640x480 with 1 Axes>"
            ],
            "image/png": "[encoded data removed]"
          },
          "metadata": {}
        }
      ]
    }
  ]
}